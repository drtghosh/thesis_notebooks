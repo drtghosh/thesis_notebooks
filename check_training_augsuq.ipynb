{
 "cells": [
  {
   "cell_type": "code",
   "execution_count": 1,
   "id": "9f0ac3df-7ea4-49eb-870f-a273e451671e",
   "metadata": {},
   "outputs": [],
   "source": [
    "from create_data import DumbCirc as dc\n",
    "from create_data_single import Dumb as db\n",
    "from augsuq import AugmentedSUQ as auq\n",
    "import matplotlib\n",
    "import matplotlib.pyplot as plt"
   ]
  },
  {
   "cell_type": "code",
   "execution_count": 10,
   "id": "af8a33da-7250-4812-b735-282b95c9901e",
   "metadata": {},
   "outputs": [],
   "source": [
    "data_instance = dc(0.5, 0.5, 0.25, 26)\n",
    "fpc, fnc, pc, lp, tc, lt = data_instance.create_dataset(50, 1, [50], [0.2], True)"
   ]
  },
  {
   "cell_type": "code",
   "execution_count": 11,
   "id": "f4efc306-cfad-424d-befe-7d3a298102f9",
   "metadata": {},
   "outputs": [],
   "source": [
    "import torch\n",
    "torch.manual_seed(1)\n",
    "fpc, fnc, pc, lp, tc, lt = torch.tensor(fpc), torch.tensor(fnc), torch.tensor(pc), torch.tensor(lp), torch.tensor(tc), torch.tensor(lt)"
   ]
  },
  {
   "cell_type": "code",
   "execution_count": 12,
   "id": "2b9ec20f-6db0-460f-840b-8000b26727c7",
   "metadata": {},
   "outputs": [],
   "source": [
    "model_zero = auq(point_cloud=fpc, partial_cloud=pc, test_partial=tc, train_labels=lp, mapping_dim=6, count_labels=2, negative_cloud=fnc)"
   ]
  },
  {
   "cell_type": "code",
   "execution_count": 13,
   "id": "6193567b-fbc7-48d1-b861-ba8591f47045",
   "metadata": {},
   "outputs": [],
   "source": [
    "use_cuda = torch.cuda.is_available()\n",
    "#device = torch.device(\"cuda\" if use_cuda else \"cpu\")\n",
    "device = \"cpu\"\n",
    "model_zero.set_device(device)"
   ]
  },
  {
   "cell_type": "code",
   "execution_count": 6,
   "id": "bdfaf80e-4092-4f42-a202-a6535fde2e86",
   "metadata": {},
   "outputs": [
    {
     "name": "stderr",
     "output_type": "stream",
     "text": [
      "C:\\Users\\Acer\\Documents\\All_of_RWTH\\ThesisTarget\\1MYWORK\\thesis_notebooks\\augsuq.py:186: UserWarning: The use of `x.T` on tensors of dimension other than 2 to reverse their shape is deprecated and it will throw an error in a future release. Consider `x.mT` to transpose batches of matrices or `x.permute(*torch.arange(x.ndim - 1, -1, -1))` to reverse the dimensions of a tensor. (Triggered internally at C:\\cb\\pytorch_1000000000000\\work\\aten\\src\\ATen\\native\\TensorShape.cpp:3679.)\n",
      "  + posterior_mean_pos.T @ torch.linalg.inv(posterior_var_pos) @ posterior_mean_pos\n"
     ]
    },
    {
     "ename": "_LinAlgError",
     "evalue": "linalg.inv: The diagonal element 140 is zero, the inversion could not be completed because the input matrix is singular.",
     "output_type": "error",
     "traceback": [
      "\u001b[1;31m---------------------------------------------------------------------------\u001b[0m",
      "\u001b[1;31m_LinAlgError\u001b[0m                              Traceback (most recent call last)",
      "Cell \u001b[1;32mIn[6], line 1\u001b[0m\n\u001b[1;32m----> 1\u001b[0m model_zero\u001b[38;5;241m.\u001b[39mtrain(num_epochs\u001b[38;5;241m=\u001b[39m\u001b[38;5;241m10\u001b[39m, batch_size\u001b[38;5;241m=\u001b[39m\u001b[38;5;241m20\u001b[39m, learning_rate\u001b[38;5;241m=\u001b[39m\u001b[38;5;241m0.0001\u001b[39m)\n",
      "File \u001b[1;32m~\\Documents\\All_of_RWTH\\ThesisTarget\\1MYWORK\\thesis_notebooks\\augsuq.py:260\u001b[0m, in \u001b[0;36mAugmentedSUQ.train\u001b[1;34m(self, num_epochs, batch_size, print_every, learning_rate, weight_decay, kind)\u001b[0m\n\u001b[0;32m    258\u001b[0m optimizer\u001b[38;5;241m.\u001b[39mzero_grad()\n\u001b[0;32m    259\u001b[0m \u001b[38;5;28;01mif\u001b[39;00m kind \u001b[38;5;241m==\u001b[39m \u001b[38;5;124m'\u001b[39m\u001b[38;5;124mz\u001b[39m\u001b[38;5;124m'\u001b[39m:\n\u001b[1;32m--> 260\u001b[0m     output \u001b[38;5;241m=\u001b[39m \u001b[38;5;28mself\u001b[39m\u001b[38;5;241m.\u001b[39mget_posterior_zero(x, y, train_l)\n\u001b[0;32m    261\u001b[0m     loss \u001b[38;5;241m=\u001b[39m torch\u001b[38;5;241m.\u001b[39mmean(output)\n\u001b[0;32m    262\u001b[0m     loss\u001b[38;5;241m.\u001b[39mbackward()\n",
      "File \u001b[1;32m~\\Documents\\All_of_RWTH\\ThesisTarget\\1MYWORK\\thesis_notebooks\\augsuq.py:186\u001b[0m, in \u001b[0;36mAugmentedSUQ.get_posterior_zero\u001b[1;34m(self, x, y, labels)\u001b[0m\n\u001b[0;32m    181\u001b[0m     posterior_mean_neg \u001b[38;5;241m=\u001b[39m kernel_pf_neg\u001b[38;5;241m.\u001b[39mT \u001b[38;5;241m@\u001b[39m torch\u001b[38;5;241m.\u001b[39mlinalg\u001b[38;5;241m.\u001b[39minv(kernel_with_noise) \u001b[38;5;241m@\u001b[39m y[i]\n\u001b[0;32m    182\u001b[0m     posterior_var_neg \u001b[38;5;241m=\u001b[39m kernel_ff_neg \u001b[38;5;241m-\u001b[39m kernel_pf_neg\u001b[38;5;241m.\u001b[39mT \u001b[38;5;241m@\u001b[39m torch\u001b[38;5;241m.\u001b[39mlinalg\u001b[38;5;241m.\u001b[39minv(kernel_with_noise) \u001b[38;5;241m@\u001b[39m kernel_pf_neg\n\u001b[0;32m    183\u001b[0m     posterior_nlls[i] \u001b[38;5;241m=\u001b[39m \u001b[38;5;241m0.5\u001b[39m \u001b[38;5;241m*\u001b[39m (\n\u001b[0;32m    184\u001b[0m             torch\u001b[38;5;241m.\u001b[39mlog(torch\u001b[38;5;241m.\u001b[39mlinalg\u001b[38;5;241m.\u001b[39mdet(posterior_var_pos) \u001b[38;5;241m+\u001b[39m \u001b[38;5;241m1e-6\u001b[39m) \u001b[38;5;241m-\u001b[39m torch\u001b[38;5;241m.\u001b[39mlog(torch\u001b[38;5;241m.\u001b[39mtensor(\u001b[38;5;241m1e-6\u001b[39m))\n\u001b[0;32m    185\u001b[0m             \u001b[38;5;241m-\u001b[39m torch\u001b[38;5;241m.\u001b[39mlog(torch\u001b[38;5;241m.\u001b[39mlinalg\u001b[38;5;241m.\u001b[39mdet(posterior_var_neg) \u001b[38;5;241m+\u001b[39m \u001b[38;5;241m1e-6\u001b[39m) \u001b[38;5;241m+\u001b[39m torch\u001b[38;5;241m.\u001b[39mlog(torch\u001b[38;5;241m.\u001b[39mtensor(\u001b[38;5;241m1e-6\u001b[39m))\n\u001b[1;32m--> 186\u001b[0m             \u001b[38;5;241m+\u001b[39m posterior_mean_pos\u001b[38;5;241m.\u001b[39mT \u001b[38;5;241m@\u001b[39m torch\u001b[38;5;241m.\u001b[39mlinalg\u001b[38;5;241m.\u001b[39minv(posterior_var_pos) \u001b[38;5;241m@\u001b[39m posterior_mean_pos\n\u001b[0;32m    187\u001b[0m             \u001b[38;5;241m-\u001b[39m posterior_mean_neg\u001b[38;5;241m.\u001b[39mT \u001b[38;5;241m@\u001b[39m torch\u001b[38;5;241m.\u001b[39mlinalg\u001b[38;5;241m.\u001b[39minv(posterior_var_neg) \u001b[38;5;241m@\u001b[39m posterior_mean_neg)\n\u001b[0;32m    189\u001b[0m \u001b[38;5;28;01mreturn\u001b[39;00m posterior_nlls\u001b[38;5;241m.\u001b[39mto(\u001b[38;5;28mself\u001b[39m\u001b[38;5;241m.\u001b[39mdevice)\n",
      "\u001b[1;31m_LinAlgError\u001b[0m: linalg.inv: The diagonal element 140 is zero, the inversion could not be completed because the input matrix is singular."
     ]
    }
   ],
   "source": [
    "model_zero.train(num_epochs=10, batch_size=20, learning_rate=0.0001)"
   ]
  },
  {
   "cell_type": "code",
   "execution_count": null,
   "id": "0c2ef750-4f79-4d52-a2f5-46c51d370620",
   "metadata": {},
   "outputs": [],
   "source": [
    "model_zero.set_test_data(tc, lt)"
   ]
  },
  {
   "cell_type": "code",
   "execution_count": null,
   "id": "f3251bc4",
   "metadata": {},
   "outputs": [],
   "source": [
    "model_zero.predict()"
   ]
  },
  {
   "cell_type": "code",
   "execution_count": null,
   "id": "7fff8faa",
   "metadata": {},
   "outputs": [],
   "source": [
    "model_zero.set_test_data(pc[2:4, :], lp[2:4, :])"
   ]
  },
  {
   "cell_type": "code",
   "execution_count": null,
   "id": "5f4ff827",
   "metadata": {},
   "outputs": [],
   "source": [
    "model_zero.predict()"
   ]
  },
  {
   "cell_type": "code",
   "execution_count": 14,
   "id": "6eac483e-f571-49fc-9528-a5befd05c794",
   "metadata": {},
   "outputs": [],
   "source": [
    "model_bin = auq(point_cloud=fpc, partial_cloud=pc, test_partial=tc, train_labels=lp,  mapping_dim=6, count_labels=2, negative_cloud=fnc)"
   ]
  },
  {
   "cell_type": "code",
   "execution_count": 15,
   "id": "b63a06c6-e194-41ba-bf16-20893e329583",
   "metadata": {},
   "outputs": [],
   "source": [
    "device = \"cpu\"\n",
    "model_bin.set_device(device)"
   ]
  },
  {
   "cell_type": "code",
   "execution_count": 16,
   "id": "141d835b-0510-4efa-a329-fe14745fddc1",
   "metadata": {},
   "outputs": [
    {
     "name": "stdout",
     "output_type": "stream",
     "text": [
      "Epoch:0, Loss: 24.068436241149904\n"
     ]
    },
    {
     "ename": "_LinAlgError",
     "evalue": "linalg.inv: The diagonal element 140 is zero, the inversion could not be completed because the input matrix is singular.",
     "output_type": "error",
     "traceback": [
      "\u001b[1;31m---------------------------------------------------------------------------\u001b[0m",
      "\u001b[1;31m_LinAlgError\u001b[0m                              Traceback (most recent call last)",
      "Cell \u001b[1;32mIn[16], line 1\u001b[0m\n\u001b[1;32m----> 1\u001b[0m model_bin\u001b[38;5;241m.\u001b[39mtrain(num_epochs\u001b[38;5;241m=\u001b[39m\u001b[38;5;241m10\u001b[39m, batch_size\u001b[38;5;241m=\u001b[39m\u001b[38;5;241m20\u001b[39m, learning_rate\u001b[38;5;241m=\u001b[39m\u001b[38;5;241m0.0001\u001b[39m, kind\u001b[38;5;241m=\u001b[39m\u001b[38;5;124m'\u001b[39m\u001b[38;5;124mb\u001b[39m\u001b[38;5;124m'\u001b[39m)\n",
      "File \u001b[1;32m~\\Documents\\All_of_RWTH\\ThesisTarget\\1MYWORK\\thesis_notebooks\\augsuq.py:266\u001b[0m, in \u001b[0;36mAugmentedSUQ.train\u001b[1;34m(self, num_epochs, batch_size, print_every, learning_rate, weight_decay, kind)\u001b[0m\n\u001b[0;32m    264\u001b[0m     training_loss \u001b[38;5;241m+\u001b[39m\u001b[38;5;241m=\u001b[39m loss\u001b[38;5;241m.\u001b[39mitem()\n\u001b[0;32m    265\u001b[0m \u001b[38;5;28;01mif\u001b[39;00m kind \u001b[38;5;241m==\u001b[39m \u001b[38;5;124m'\u001b[39m\u001b[38;5;124mb\u001b[39m\u001b[38;5;124m'\u001b[39m:\n\u001b[1;32m--> 266\u001b[0m     output \u001b[38;5;241m=\u001b[39m \u001b[38;5;28mself\u001b[39m\u001b[38;5;241m.\u001b[39mget_posterior_binary(x, y, train_l)\n\u001b[0;32m    267\u001b[0m     \u001b[38;5;66;03m# print(output)\u001b[39;00m\n\u001b[0;32m    268\u001b[0m     loss \u001b[38;5;241m=\u001b[39m torch\u001b[38;5;241m.\u001b[39mmean(output)\n",
      "File \u001b[1;32m~\\Documents\\All_of_RWTH\\ThesisTarget\\1MYWORK\\thesis_notebooks\\augsuq.py:231\u001b[0m, in \u001b[0;36mAugmentedSUQ.get_posterior_binary\u001b[1;34m(self, x, y, labels, reg_const)\u001b[0m\n\u001b[0;32m    226\u001b[0m posterior_mean_neg \u001b[38;5;241m=\u001b[39m kernel_pf_neg\u001b[38;5;241m.\u001b[39mT \u001b[38;5;241m@\u001b[39m torch\u001b[38;5;241m.\u001b[39mlinalg\u001b[38;5;241m.\u001b[39minv(kernel_with_noise) \u001b[38;5;241m@\u001b[39m (y[i] \u001b[38;5;241m+\u001b[39m \u001b[38;5;241m1\u001b[39m)\n\u001b[0;32m    227\u001b[0m posterior_var_neg \u001b[38;5;241m=\u001b[39m kernel_ff_neg \u001b[38;5;241m-\u001b[39m kernel_pf_neg\u001b[38;5;241m.\u001b[39mT \u001b[38;5;241m@\u001b[39m torch\u001b[38;5;241m.\u001b[39mlinalg\u001b[38;5;241m.\u001b[39minv(kernel_with_noise) \u001b[38;5;241m@\u001b[39m kernel_pf_neg\n\u001b[0;32m    228\u001b[0m loss_nll \u001b[38;5;241m=\u001b[39m \u001b[38;5;241m0.5\u001b[39m \u001b[38;5;241m*\u001b[39m (\n\u001b[0;32m    229\u001b[0m         torch\u001b[38;5;241m.\u001b[39mlog(torch\u001b[38;5;241m.\u001b[39mlinalg\u001b[38;5;241m.\u001b[39mdet(posterior_var_pos) \u001b[38;5;241m+\u001b[39m \u001b[38;5;241m1e-6\u001b[39m) \u001b[38;5;241m-\u001b[39m torch\u001b[38;5;241m.\u001b[39mlog(torch\u001b[38;5;241m.\u001b[39mtensor(\u001b[38;5;241m1e-6\u001b[39m))\n\u001b[0;32m    230\u001b[0m         \u001b[38;5;241m+\u001b[39m torch\u001b[38;5;241m.\u001b[39mlog(torch\u001b[38;5;241m.\u001b[39mlinalg\u001b[38;5;241m.\u001b[39mdet(posterior_var_neg) \u001b[38;5;241m+\u001b[39m \u001b[38;5;241m1e-6\u001b[39m) \u001b[38;5;241m-\u001b[39m torch\u001b[38;5;241m.\u001b[39mlog(torch\u001b[38;5;241m.\u001b[39mtensor(\u001b[38;5;241m1e-6\u001b[39m))\n\u001b[1;32m--> 231\u001b[0m         \u001b[38;5;241m+\u001b[39m posterior_mean_pos\u001b[38;5;241m.\u001b[39mT \u001b[38;5;241m@\u001b[39m torch\u001b[38;5;241m.\u001b[39mlinalg\u001b[38;5;241m.\u001b[39minv(posterior_var_pos) \u001b[38;5;241m@\u001b[39m posterior_mean_pos\n\u001b[0;32m    232\u001b[0m         \u001b[38;5;241m+\u001b[39m (posterior_mean_neg \u001b[38;5;241m-\u001b[39m \u001b[38;5;241m1\u001b[39m)\u001b[38;5;241m.\u001b[39mT \u001b[38;5;241m@\u001b[39m torch\u001b[38;5;241m.\u001b[39mlinalg\u001b[38;5;241m.\u001b[39minv(posterior_var_neg) \u001b[38;5;241m@\u001b[39m (posterior_mean_neg \u001b[38;5;241m-\u001b[39m \u001b[38;5;241m1\u001b[39m))\n\u001b[0;32m    233\u001b[0m loss_entropy \u001b[38;5;241m=\u001b[39m \u001b[38;5;241m-\u001b[39m ((fn\u001b[38;5;241m.\u001b[39msoftmax(cov_matrix, dim\u001b[38;5;241m=\u001b[39m\u001b[38;5;241m1\u001b[39m) \u001b[38;5;241m*\u001b[39m fn\u001b[38;5;241m.\u001b[39mlog_softmax(cov_matrix, dim\u001b[38;5;241m=\u001b[39m\u001b[38;5;241m1\u001b[39m))\u001b[38;5;241m.\u001b[39msum(dim\u001b[38;5;241m=\u001b[39m\u001b[38;5;241m1\u001b[39m))\u001b[38;5;241m.\u001b[39mmean()\n\u001b[0;32m    234\u001b[0m \u001b[38;5;66;03m# print(loss_entropy)\u001b[39;00m\n",
      "\u001b[1;31m_LinAlgError\u001b[0m: linalg.inv: The diagonal element 140 is zero, the inversion could not be completed because the input matrix is singular."
     ]
    }
   ],
   "source": [
    "model_bin.train(num_epochs=10, batch_size=20, learning_rate=0.0001, kind='b')"
   ]
  },
  {
   "cell_type": "code",
   "execution_count": null,
   "id": "3e8dbbc5-7021-4cea-b668-4ede8fef23da",
   "metadata": {},
   "outputs": [],
   "source": [
    "model_bin.set_test_data(tc, lt)"
   ]
  },
  {
   "cell_type": "code",
   "execution_count": null,
   "id": "6a0ffa8f-26ee-4d97-a4d7-39b0996f7e59",
   "metadata": {},
   "outputs": [],
   "source": [
    "model_bin.predict()"
   ]
  },
  {
   "cell_type": "code",
   "execution_count": null,
   "id": "cdaf43c1-37a1-4793-b075-55aa2413cd76",
   "metadata": {},
   "outputs": [],
   "source": [
    "model_bin.get_posterior_test(tc[0])"
   ]
  },
  {
   "cell_type": "code",
   "execution_count": null,
   "id": "217fd2b5-9776-4347-8e04-eaff04082322",
   "metadata": {},
   "outputs": [],
   "source": [
    "model_bin.get_posterior_test(fpc[1])"
   ]
  },
  {
   "cell_type": "code",
   "execution_count": null,
   "id": "3f02e152-6ecc-41fe-b240-b68aa4d8c548",
   "metadata": {},
   "outputs": [],
   "source": [
    "model_bin.set_test_data(pc[7:11, :], lp[7:11, :])"
   ]
  },
  {
   "cell_type": "code",
   "execution_count": null,
   "id": "db4eaa76-f7bf-4989-80aa-1eb930e2129c",
   "metadata": {},
   "outputs": [],
   "source": [
    "model_bin.predict()"
   ]
  },
  {
   "cell_type": "code",
   "execution_count": 20,
   "id": "1e261428-349c-4248-9c71-57f8325dd27f",
   "metadata": {},
   "outputs": [],
   "source": [
    "data_instance = db(0.5, 0.5, 0.25, 2)\n",
    "fpc, fnc, pc, lp, tc, lt = data_instance.create_dataset(50, 1, [50], [0.2], True)"
   ]
  },
  {
   "cell_type": "code",
   "execution_count": 21,
   "id": "9338f791-77ad-4d00-9c05-cb18e5d7b5cf",
   "metadata": {},
   "outputs": [],
   "source": [
    "torch.manual_seed(226)\n",
    "fpc, fnc, pc, lp, tc, lt = torch.tensor(fpc), torch.tensor(fnc), torch.tensor(pc), torch.tensor(lp), torch.tensor(tc), torch.tensor(lt)"
   ]
  },
  {
   "cell_type": "code",
   "execution_count": 22,
   "id": "05ff351d-d151-4461-91f6-acb634431d6f",
   "metadata": {},
   "outputs": [],
   "source": [
    "model_bin = auq(point_cloud=fpc, partial_cloud=pc, test_partial=tc, train_labels=lp,  mapping_dim=6, negative_cloud=fnc)"
   ]
  },
  {
   "cell_type": "code",
   "execution_count": 23,
   "id": "fd26ce0f-7b00-441d-a44f-45e4d73f7618",
   "metadata": {},
   "outputs": [],
   "source": [
    "device = \"cpu\"\n",
    "model_bin.set_device(device)"
   ]
  },
  {
   "cell_type": "code",
   "execution_count": 24,
   "id": "14056430-b0bc-4d3b-9e86-ba8123e83b63",
   "metadata": {},
   "outputs": [
    {
     "ename": "_LinAlgError",
     "evalue": "linalg.inv: The diagonal element 159 is zero, the inversion could not be completed because the input matrix is singular.",
     "output_type": "error",
     "traceback": [
      "\u001b[1;31m---------------------------------------------------------------------------\u001b[0m",
      "\u001b[1;31m_LinAlgError\u001b[0m                              Traceback (most recent call last)",
      "Cell \u001b[1;32mIn[24], line 1\u001b[0m\n\u001b[1;32m----> 1\u001b[0m model_bin\u001b[38;5;241m.\u001b[39mtrain(num_epochs\u001b[38;5;241m=\u001b[39m\u001b[38;5;241m10\u001b[39m, batch_size\u001b[38;5;241m=\u001b[39m\u001b[38;5;241m20\u001b[39m, learning_rate\u001b[38;5;241m=\u001b[39m\u001b[38;5;241m0.0005\u001b[39m, kind\u001b[38;5;241m=\u001b[39m\u001b[38;5;124m'\u001b[39m\u001b[38;5;124mb\u001b[39m\u001b[38;5;124m'\u001b[39m)\n",
      "File \u001b[1;32m~\\Documents\\All_of_RWTH\\ThesisTarget\\1MYWORK\\thesis_notebooks\\augsuq.py:266\u001b[0m, in \u001b[0;36mAugmentedSUQ.train\u001b[1;34m(self, num_epochs, batch_size, print_every, learning_rate, weight_decay, kind)\u001b[0m\n\u001b[0;32m    264\u001b[0m     training_loss \u001b[38;5;241m+\u001b[39m\u001b[38;5;241m=\u001b[39m loss\u001b[38;5;241m.\u001b[39mitem()\n\u001b[0;32m    265\u001b[0m \u001b[38;5;28;01mif\u001b[39;00m kind \u001b[38;5;241m==\u001b[39m \u001b[38;5;124m'\u001b[39m\u001b[38;5;124mb\u001b[39m\u001b[38;5;124m'\u001b[39m:\n\u001b[1;32m--> 266\u001b[0m     output \u001b[38;5;241m=\u001b[39m \u001b[38;5;28mself\u001b[39m\u001b[38;5;241m.\u001b[39mget_posterior_binary(x, y, train_l)\n\u001b[0;32m    267\u001b[0m     \u001b[38;5;66;03m# print(output)\u001b[39;00m\n\u001b[0;32m    268\u001b[0m     loss \u001b[38;5;241m=\u001b[39m torch\u001b[38;5;241m.\u001b[39mmean(output)\n",
      "File \u001b[1;32m~\\Documents\\All_of_RWTH\\ThesisTarget\\1MYWORK\\thesis_notebooks\\augsuq.py:231\u001b[0m, in \u001b[0;36mAugmentedSUQ.get_posterior_binary\u001b[1;34m(self, x, y, labels, reg_const)\u001b[0m\n\u001b[0;32m    226\u001b[0m posterior_mean_neg \u001b[38;5;241m=\u001b[39m kernel_pf_neg\u001b[38;5;241m.\u001b[39mT \u001b[38;5;241m@\u001b[39m torch\u001b[38;5;241m.\u001b[39mlinalg\u001b[38;5;241m.\u001b[39minv(kernel_with_noise) \u001b[38;5;241m@\u001b[39m (y[i] \u001b[38;5;241m+\u001b[39m \u001b[38;5;241m1\u001b[39m)\n\u001b[0;32m    227\u001b[0m posterior_var_neg \u001b[38;5;241m=\u001b[39m kernel_ff_neg \u001b[38;5;241m-\u001b[39m kernel_pf_neg\u001b[38;5;241m.\u001b[39mT \u001b[38;5;241m@\u001b[39m torch\u001b[38;5;241m.\u001b[39mlinalg\u001b[38;5;241m.\u001b[39minv(kernel_with_noise) \u001b[38;5;241m@\u001b[39m kernel_pf_neg\n\u001b[0;32m    228\u001b[0m loss_nll \u001b[38;5;241m=\u001b[39m \u001b[38;5;241m0.5\u001b[39m \u001b[38;5;241m*\u001b[39m (\n\u001b[0;32m    229\u001b[0m         torch\u001b[38;5;241m.\u001b[39mlog(torch\u001b[38;5;241m.\u001b[39mlinalg\u001b[38;5;241m.\u001b[39mdet(posterior_var_pos) \u001b[38;5;241m+\u001b[39m \u001b[38;5;241m1e-6\u001b[39m) \u001b[38;5;241m-\u001b[39m torch\u001b[38;5;241m.\u001b[39mlog(torch\u001b[38;5;241m.\u001b[39mtensor(\u001b[38;5;241m1e-6\u001b[39m))\n\u001b[0;32m    230\u001b[0m         \u001b[38;5;241m+\u001b[39m torch\u001b[38;5;241m.\u001b[39mlog(torch\u001b[38;5;241m.\u001b[39mlinalg\u001b[38;5;241m.\u001b[39mdet(posterior_var_neg) \u001b[38;5;241m+\u001b[39m \u001b[38;5;241m1e-6\u001b[39m) \u001b[38;5;241m-\u001b[39m torch\u001b[38;5;241m.\u001b[39mlog(torch\u001b[38;5;241m.\u001b[39mtensor(\u001b[38;5;241m1e-6\u001b[39m))\n\u001b[1;32m--> 231\u001b[0m         \u001b[38;5;241m+\u001b[39m posterior_mean_pos\u001b[38;5;241m.\u001b[39mT \u001b[38;5;241m@\u001b[39m torch\u001b[38;5;241m.\u001b[39mlinalg\u001b[38;5;241m.\u001b[39minv(posterior_var_pos) \u001b[38;5;241m@\u001b[39m posterior_mean_pos\n\u001b[0;32m    232\u001b[0m         \u001b[38;5;241m+\u001b[39m (posterior_mean_neg \u001b[38;5;241m-\u001b[39m \u001b[38;5;241m1\u001b[39m)\u001b[38;5;241m.\u001b[39mT \u001b[38;5;241m@\u001b[39m torch\u001b[38;5;241m.\u001b[39mlinalg\u001b[38;5;241m.\u001b[39minv(posterior_var_neg) \u001b[38;5;241m@\u001b[39m (posterior_mean_neg \u001b[38;5;241m-\u001b[39m \u001b[38;5;241m1\u001b[39m))\n\u001b[0;32m    233\u001b[0m loss_entropy \u001b[38;5;241m=\u001b[39m \u001b[38;5;241m-\u001b[39m ((fn\u001b[38;5;241m.\u001b[39msoftmax(cov_matrix, dim\u001b[38;5;241m=\u001b[39m\u001b[38;5;241m1\u001b[39m) \u001b[38;5;241m*\u001b[39m fn\u001b[38;5;241m.\u001b[39mlog_softmax(cov_matrix, dim\u001b[38;5;241m=\u001b[39m\u001b[38;5;241m1\u001b[39m))\u001b[38;5;241m.\u001b[39msum(dim\u001b[38;5;241m=\u001b[39m\u001b[38;5;241m1\u001b[39m))\u001b[38;5;241m.\u001b[39mmean()\n\u001b[0;32m    234\u001b[0m \u001b[38;5;66;03m# print(loss_entropy)\u001b[39;00m\n",
      "\u001b[1;31m_LinAlgError\u001b[0m: linalg.inv: The diagonal element 159 is zero, the inversion could not be completed because the input matrix is singular."
     ]
    }
   ],
   "source": [
    "model_bin.train(num_epochs=10, batch_size=20, learning_rate=0.0005, kind='b')"
   ]
  },
  {
   "cell_type": "code",
   "execution_count": null,
   "id": "80ee84fa-8880-4e3c-b1f6-fdb9a6f1931e",
   "metadata": {},
   "outputs": [],
   "source": [
    "model_bin.set_test_data(tc, lt)"
   ]
  },
  {
   "cell_type": "code",
   "execution_count": null,
   "id": "ef7b299f-a24f-4214-b4e7-f679d400ad8e",
   "metadata": {},
   "outputs": [],
   "source": [
    "model_bin.predict()"
   ]
  },
  {
   "cell_type": "code",
   "execution_count": null,
   "id": "b09c5182-656d-48ab-8fac-8f703908f4aa",
   "metadata": {},
   "outputs": [],
   "source": [
    "model_bin.set_test_data(pc[10:12, :], lp[10:12, :])"
   ]
  },
  {
   "cell_type": "code",
   "execution_count": null,
   "id": "935d0d9e-ecbc-4423-b41f-907ef9770d20",
   "metadata": {},
   "outputs": [],
   "source": [
    "model_bin.predict()"
   ]
  },
  {
   "cell_type": "code",
   "execution_count": null,
   "id": "4ca3da90-4286-4870-9fab-a4bf023f6f8c",
   "metadata": {},
   "outputs": [],
   "source": []
  }
 ],
 "metadata": {
  "kernelspec": {
   "display_name": "Python 3 (ipykernel)",
   "language": "python",
   "name": "python3"
  },
  "language_info": {
   "codemirror_mode": {
    "name": "ipython",
    "version": 3
   },
   "file_extension": ".py",
   "mimetype": "text/x-python",
   "name": "python",
   "nbconvert_exporter": "python",
   "pygments_lexer": "ipython3",
   "version": "3.12.3"
  }
 },
 "nbformat": 4,
 "nbformat_minor": 5
}
