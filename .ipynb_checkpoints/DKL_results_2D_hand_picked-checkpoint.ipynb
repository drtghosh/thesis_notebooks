{
 "cells": [
  {
   "cell_type": "code",
   "execution_count": 107,
   "id": "44baa118",
   "metadata": {},
   "outputs": [],
   "source": [
    "import torch\n",
    "import gpytorch\n",
    "import numpy as np\n",
    "from scipy.stats import norm\n",
    "from scipy.spatial import distance\n",
    "\n",
    "import matplotlib\n",
    "import matplotlib.pyplot as plt\n",
    "\n",
    "from gpytorch.priors import NormalPrior\n",
    "\n",
    "from tqdm.notebook import tqdm"
   ]
  },
  {
   "cell_type": "markdown",
   "id": "ca082cc0",
   "metadata": {},
   "source": [
    "# Dumbbell"
   ]
  },
  {
   "cell_type": "code",
   "execution_count": 114,
   "id": "7dd7378f",
   "metadata": {},
   "outputs": [],
   "source": [
    "def create_dumbbell(circle_center_x, rec_long_side, rec_short_side):\n",
    "    diff_x = circle_center_x - (rec_long_side/2)\n",
    "    assert diff_x > 0\n",
    "    \n",
    "    circle_radius = distance.euclidean([circle_center_x,0], [rec_long_side/2,rec_short_side/2])\n",
    "    \n",
    "    angle = np.arccos((circle_center_x - rec_long_side/2.0)/circle_radius)\n",
    "    add_angle = 1/(100*circle_radius)\n",
    "    circle_perimeter = 4 * (np.pi - angle) * circle_radius\n",
    "    rec_perimeter = 2 * rec_long_side\n",
    "    total_perimeter = circle_perimeter + rec_perimeter\n",
    "    \n",
    "    samples = torch.empty((int(100 * total_perimeter), 2), dtype=torch.float32)\n",
    "    samples_till_now = 0\n",
    "    rec_sample = int(rec_perimeter * 50)\n",
    "    circle_sample = int(circle_perimeter * 50)\n",
    "    \n",
    "    for i in range(rec_sample):\n",
    "        samples[i] = torch.Tensor([-rec_long_side/2 + i/100.0, rec_short_side/2])\n",
    "    samples_till_now+=rec_sample\n",
    "    \n",
    "    starting_angle = np.pi - angle\n",
    "    for j in range(circle_sample):\n",
    "        new_angle = starting_angle - j*add_angle\n",
    "        samples[samples_till_now+j] = torch.Tensor([circle_center_x+circle_radius*np.cos(new_angle), circle_radius*np.sin(new_angle)])\n",
    "    samples_till_now+=circle_sample\n",
    "    \n",
    "    for i in range(rec_sample):\n",
    "        samples[samples_till_now+i] = torch.Tensor([rec_long_side/2 - i/100.0, -rec_short_side/2])\n",
    "    samples_till_now+=rec_sample\n",
    "    \n",
    "    starting_angle = angle\n",
    "    for j in range(circle_sample):\n",
    "        new_angle = starting_angle + j*add_angle\n",
    "        samples[samples_till_now+j] = torch.Tensor([-circle_center_x+circle_radius*np.cos(new_angle), circle_radius*np.sin(new_angle)])\n",
    "    \n",
    "    return samples"
   ]
  },
  {
   "cell_type": "code",
   "execution_count": 117,
   "id": "7f256fef",
   "metadata": {},
   "outputs": [],
   "source": [
    "dumb_sample = create_dumbbell(2.0, 2.0, 1.0)"
   ]
  },
  {
   "cell_type": "code",
   "execution_count": 118,
   "id": "4c80bac4",
   "metadata": {},
   "outputs": [
    {
     "data": {
      "image/png": "[encoded data removed]",
      "text/plain": [
       "<Figure size 1100x400 with 1 Axes>"
      ]
     },
     "metadata": {},
     "output_type": "display_data"
    }
   ],
   "source": [
    "with torch.no_grad():\n",
    "        fig = plt.figure(figsize=(11, 4))\n",
    "        ax = fig.add_subplot(111)\n",
    "        plot = ax.scatter(dumb_sample.cpu().numpy()[:, 0], dumb_sample.cpu().numpy()[:, 1], s = 0.1)\n",
    "        ax.axis('equal')\n",
    "        ax.set_title(f'Original Polygon')"
   ]
  },
  {
   "cell_type": "code",
   "execution_count": 120,
   "id": "41b73757",
   "metadata": {},
   "outputs": [],
   "source": [
    "def create_grid(sampled, eps=0.1, res=0.01):\n",
    "    dims = len(sampled.shape)\n",
    "    \n",
    "    borders = torch.empty((dims, 2), dtype=torch.float32)\n",
    "    for i in range(dims):\n",
    "        borders[i, 0] = min(sampled[:,i]) - eps\n",
    "        borders[i, 1] = max(sampled[:,i]) + eps\n",
    "        \n",
    "    grid_sizes = torch.empty(dims, dtype=torch.int32)\n",
    "    for i in range(dims):\n",
    "        grid_sizes[i] = (borders[i, 1] - borders[i, 0])/res + 1\n",
    "        \n",
    "    grid_points = torch.empty((torch.prod(grid_sizes).int(), 2), dtype=torch.float32)\n",
    "    if (dims==2):\n",
    "        for x in range(grid_sizes[0]):\n",
    "            for y in range(grid_sizes[1]):\n",
    "                index = (x * grid_sizes[1]) + y\n",
    "                grid_points[index] = torch.Tensor([borders[0, 0] + x * res, borders[1, 0] + y * res])\n",
    "    return grid_points, grid_sizes"
   ]
  },
  {
   "cell_type": "code",
   "execution_count": 122,
   "id": "234a1882",
   "metadata": {},
   "outputs": [],
   "source": [
    "grid_points, grid_sizes = create_grid(dumb_sample, res=0.01)"
   ]
  },
  {
   "cell_type": "code",
   "execution_count": null,
   "id": "9123802a",
   "metadata": {},
   "outputs": [],
   "source": []
  }
 ],
 "metadata": {
  "kernelspec": {
   "display_name": "Python 3 (ipykernel)",
   "language": "python",
   "name": "python3"
  },
  "language_info": {
   "codemirror_mode": {
    "name": "ipython",
    "version": 3
   },
   "file_extension": ".py",
   "mimetype": "text/x-python",
   "name": "python",
   "nbconvert_exporter": "python",
   "pygments_lexer": "ipython3",
   "version": "3.12.4"
  }
 },
 "nbformat": 4,
 "nbformat_minor": 5
}
