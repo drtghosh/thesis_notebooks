{
 "cells": [
  {
   "cell_type": "code",
   "execution_count": 1,
   "id": "9f0ac3df-7ea4-49eb-870f-a273e451671e",
   "metadata": {},
   "outputs": [],
   "source": [
    "from create_data import DumbCirc as dc\n",
    "from dklsuq import DeepKernelSUQ as dklu\n",
    "import matplotlib\n",
    "import matplotlib.pyplot as plt"
   ]
  },
  {
   "cell_type": "code",
   "execution_count": 2,
   "id": "af8a33da-7250-4812-b735-282b95c9901e",
   "metadata": {},
   "outputs": [],
   "source": [
    "data_instance = dc(0.5, 0.5, 0.25)\n",
    "fc, pc, tc = data_instance.create_dataset(4, 2, [50], [0.2], True)"
   ]
  },
  {
   "cell_type": "code",
   "execution_count": 3,
   "id": "f4efc306-cfad-424d-befe-7d3a298102f9",
   "metadata": {},
   "outputs": [
    {
     "name": "stderr",
     "output_type": "stream",
     "text": [
      "/tmp/ipykernel_371343/2979240048.py:2: UserWarning: Creating a tensor from a list of numpy.ndarrays is extremely slow. Please consider converting the list to a single numpy.ndarray with numpy.array() before converting to a tensor. (Triggered internally at /opt/conda/conda-bld/pytorch_1711403246168/work/torch/csrc/utils/tensor_new.cpp:275.)\n",
      "  fc, pc, tc = torch.tensor(fc), torch.tensor(pc), torch.tensor(tc)\n"
     ]
    }
   ],
   "source": [
    "import torch\n",
    "fc, pc, tc = torch.tensor(fc), torch.tensor(pc), torch.tensor(tc)"
   ]
  },
  {
   "cell_type": "code",
   "execution_count": 4,
   "id": "6ddc3109-a660-4743-a97a-59b64359cdbb",
   "metadata": {},
   "outputs": [
    {
     "data": {
      "text/plain": [
       "torch.Size([8, 140, 2])"
      ]
     },
     "execution_count": 4,
     "metadata": {},
     "output_type": "execute_result"
    }
   ],
   "source": [
    "fc.size()"
   ]
  },
  {
   "cell_type": "code",
   "execution_count": 5,
   "id": "5a7a5eea-4821-4bb1-8e8f-895005d5f9b5",
   "metadata": {},
   "outputs": [
    {
     "data": {
      "text/plain": [
       "torch.Size([8, 35, 2])"
      ]
     },
     "execution_count": 5,
     "metadata": {},
     "output_type": "execute_result"
    }
   ],
   "source": [
    "pc.size()"
   ]
  },
  {
   "cell_type": "code",
   "execution_count": 6,
   "id": "2b9ec20f-6db0-460f-840b-8000b26727c7",
   "metadata": {},
   "outputs": [],
   "source": [
    "model = dklu(point_cloud=fc, partial_cloud=pc, test_partial=tc)"
   ]
  },
  {
   "cell_type": "code",
   "execution_count": 7,
   "id": "6193567b-fbc7-48d1-b861-ba8591f47045",
   "metadata": {},
   "outputs": [],
   "source": [
    "use_cuda = torch.cuda.is_available()\n",
    "device = torch.device(\"cuda\" if use_cuda else \"cpu\")\n",
    "model.set_device(device)"
   ]
  },
  {
   "cell_type": "code",
   "execution_count": 8,
   "id": "1fb298cb-5616-420c-8a0e-c7ea0b01dc81",
   "metadata": {},
   "outputs": [],
   "source": [
    "model.set_test_data(tc)"
   ]
  },
  {
   "cell_type": "code",
   "execution_count": 9,
   "id": "bdfaf80e-4092-4f42-a202-a6535fde2e86",
   "metadata": {},
   "outputs": [
    {
     "name": "stderr",
     "output_type": "stream",
     "text": [
      "/servers/ash/hdd-home3/dghosh/Documents/Thesis/1notebooks/dklsuq.py:116: UserWarning: The use of `x.T` on tensors of dimension other than 2 to reverse their shape is deprecated and it will throw an error in a future release. Consider `x.mT` to transpose batches of matrices or `x.permute(*torch.arange(x.ndim - 1, -1, -1))` to reverse the dimensions of a tensor. (Triggered internally at /opt/conda/conda-bld/pytorch_1711403246168/work/aten/src/ATen/native/TensorShape.cpp:3637.)\n",
      "  + posterior_mean.T @ torch.linalg.inv(posterior_var) @ posterior_mean)\n"
     ]
    },
    {
     "name": "stdout",
     "output_type": "stream",
     "text": [
      "Epoch: 0, Loss: -1990.129883\n",
      "Epoch: 1, Loss: 31606.611328\n",
      "Epoch: 2, Loss: 1770353.625000\n",
      "Epoch: 3, Loss: 19468.710938\n",
      "Epoch: 4, Loss: -29204.625000\n",
      "Epoch: 5, Loss: 473951.281250\n",
      "Epoch: 6, Loss: -651047.625000\n",
      "Epoch: 7, Loss: 537866560.000000\n",
      "Epoch: 8, Loss: -32704.582031\n",
      "Epoch: 9, Loss: -192914.296875\n",
      "Epoch: 10, Loss: 4155.113281\n",
      "Epoch: 11, Loss: -909388.937500\n",
      "Epoch: 12, Loss: 4016.507812\n",
      "Epoch: 13, Loss: -28708.691406\n",
      "Epoch: 14, Loss: -410374.500000\n"
     ]
    },
    {
     "ename": "_LinAlgError",
     "evalue": "linalg.inv: The diagonal element 140 is zero, the inversion could not be completed because the input matrix is singular.",
     "output_type": "error",
     "traceback": [
      "\u001b[0;31m---------------------------------------------------------------------------\u001b[0m",
      "\u001b[0;31m_LinAlgError\u001b[0m                              Traceback (most recent call last)",
      "Cell \u001b[0;32mIn[9], line 1\u001b[0m\n\u001b[0;32m----> 1\u001b[0m model\u001b[38;5;241m.\u001b[39mtrain()\n",
      "File \u001b[0;32m/servers/ash/hdd-home3/dghosh/Documents/Thesis/1notebooks/dklsuq.py:130\u001b[0m, in \u001b[0;36mDeepKernelSUQ.train\u001b[0;34m(self, num_epochs, print_every, learning_rate, weight_decay)\u001b[0m\n\u001b[1;32m    127\u001b[0m \u001b[38;5;28;01mfor\u001b[39;00m i \u001b[38;5;129;01min\u001b[39;00m \u001b[38;5;28mrange\u001b[39m(num_epochs):\n\u001b[1;32m    128\u001b[0m     \u001b[38;5;66;03m# print(f'Epoch {i}:')\u001b[39;00m\n\u001b[1;32m    129\u001b[0m     optimizer\u001b[38;5;241m.\u001b[39mzero_grad()\n\u001b[0;32m--> 130\u001b[0m     output \u001b[38;5;241m=\u001b[39m \u001b[38;5;28mself\u001b[39m\u001b[38;5;241m.\u001b[39mget_posterior(train_x)\n\u001b[1;32m    131\u001b[0m     \u001b[38;5;66;03m# print(output)\u001b[39;00m\n\u001b[1;32m    132\u001b[0m     loss \u001b[38;5;241m=\u001b[39m torch\u001b[38;5;241m.\u001b[39mmean(output)\n",
      "File \u001b[0;32m/servers/ash/hdd-home3/dghosh/Documents/Thesis/1notebooks/dklsuq.py:116\u001b[0m, in \u001b[0;36mDeepKernelSUQ.get_posterior\u001b[0;34m(self, x)\u001b[0m\n\u001b[1;32m    113\u001b[0m     posterior_mean \u001b[38;5;241m=\u001b[39m kernel_pf\u001b[38;5;241m.\u001b[39mT \u001b[38;5;241m@\u001b[39m torch\u001b[38;5;241m.\u001b[39mlinalg\u001b[38;5;241m.\u001b[39minv(kernel_pp) \u001b[38;5;241m@\u001b[39m \u001b[38;5;28mself\u001b[39m\u001b[38;5;241m.\u001b[39mpartial_value[i]\u001b[38;5;241m.\u001b[39mto(\u001b[38;5;28mself\u001b[39m\u001b[38;5;241m.\u001b[39mdevice)\n\u001b[1;32m    114\u001b[0m     posterior_var \u001b[38;5;241m=\u001b[39m kernel_ff \u001b[38;5;241m-\u001b[39m kernel_pf\u001b[38;5;241m.\u001b[39mT \u001b[38;5;241m@\u001b[39m torch\u001b[38;5;241m.\u001b[39mlinalg\u001b[38;5;241m.\u001b[39minv(kernel_pp) \u001b[38;5;241m@\u001b[39m kernel_pf\n\u001b[1;32m    115\u001b[0m     posterior_nlls[i] \u001b[38;5;241m=\u001b[39m \u001b[38;5;241m0.5\u001b[39m \u001b[38;5;241m*\u001b[39m (torch\u001b[38;5;241m.\u001b[39mlog(torch\u001b[38;5;241m.\u001b[39mlinalg\u001b[38;5;241m.\u001b[39mdet(posterior_var) \u001b[38;5;241m+\u001b[39m \u001b[38;5;241m1e-6\u001b[39m) \u001b[38;5;241m-\u001b[39m torch\u001b[38;5;241m.\u001b[39mlog(torch\u001b[38;5;241m.\u001b[39mtensor(\u001b[38;5;241m1e-6\u001b[39m))\n\u001b[0;32m--> 116\u001b[0m                                \u001b[38;5;241m+\u001b[39m posterior_mean\u001b[38;5;241m.\u001b[39mT \u001b[38;5;241m@\u001b[39m torch\u001b[38;5;241m.\u001b[39mlinalg\u001b[38;5;241m.\u001b[39minv(posterior_var) \u001b[38;5;241m@\u001b[39m posterior_mean)\n\u001b[1;32m    118\u001b[0m \u001b[38;5;28;01mreturn\u001b[39;00m posterior_nlls\u001b[38;5;241m.\u001b[39mto(\u001b[38;5;28mself\u001b[39m\u001b[38;5;241m.\u001b[39mdevice)\n",
      "\u001b[0;31m_LinAlgError\u001b[0m: linalg.inv: The diagonal element 140 is zero, the inversion could not be completed because the input matrix is singular."
     ]
    }
   ],
   "source": [
    "model.train()"
   ]
  },
  {
   "cell_type": "code",
   "execution_count": null,
   "id": "07c7270f",
   "metadata": {},
   "outputs": [],
   "source": []
  },
  {
   "cell_type": "code",
   "execution_count": null,
   "id": "5cc60bb4",
   "metadata": {},
   "outputs": [],
   "source": []
  }
 ],
 "metadata": {
  "kernelspec": {
   "display_name": "Python 3 (ipykernel)",
   "language": "python",
   "name": "python3"
  },
  "language_info": {
   "codemirror_mode": {
    "name": "ipython",
    "version": 3
   },
   "file_extension": ".py",
   "mimetype": "text/x-python",
   "name": "python",
   "nbconvert_exporter": "python",
   "pygments_lexer": "ipython3",
   "version": "3.12.4"
  }
 },
 "nbformat": 4,
 "nbformat_minor": 5
}
