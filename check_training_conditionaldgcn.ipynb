{
 "cells": [
  {
   "cell_type": "code",
   "execution_count": 4,
   "id": "9f0ac3df-7ea4-49eb-870f-a273e451671e",
   "metadata": {},
   "outputs": [],
   "source": [
    "from create_data_dgcn_cc import Circ as cc\n",
    "from conditionaldgcnsuq import ConditionalDGCN as ccn\n",
    "import matplotlib\n",
    "import matplotlib.pyplot as plt"
   ]
  },
  {
   "cell_type": "code",
   "execution_count": 7,
   "id": "af8a33da-7250-4812-b735-282b95c9901e",
   "metadata": {},
   "outputs": [],
   "source": [
    "data_instance = cc(0.4, 0.4, 0.2, 26)\n",
    "fpc, pc, lp, tc, lt = data_instance.create_dataset(5, 1, [100], [0.2], 10)"
   ]
  },
  {
   "cell_type": "code",
   "execution_count": 8,
   "id": "f4efc306-cfad-424d-befe-7d3a298102f9",
   "metadata": {},
   "outputs": [],
   "source": [
    "import torch\n",
    "torch.manual_seed(26)\n",
    "fpc, pc, lp, tc, lt = torch.tensor(fpc), torch.tensor(pc), torch.tensor(lp), torch.tensor(tc), torch.tensor(lt)"
   ]
  },
  {
   "cell_type": "code",
   "execution_count": 9,
   "id": "52f1b09a-0fbd-4748-b9d7-53e8c0194595",
   "metadata": {},
   "outputs": [],
   "source": [
    "model = ccn(pc, fpc, tc, lp, lt, False, 2)"
   ]
  },
  {
   "cell_type": "code",
   "execution_count": 10,
   "id": "14056430-b0bc-4d3b-9e86-ba8123e83b63",
   "metadata": {},
   "outputs": [],
   "source": [
    "directed_partial, directed_remaining, labels_partial = model.create_conditional_data()"
   ]
  },
  {
   "cell_type": "code",
   "execution_count": 14,
   "id": "bb05336f-e1ba-4016-932a-5a443217d238",
   "metadata": {},
   "outputs": [
    {
     "data": {
      "text/plain": [
       "torch.Size([5, 280])"
      ]
     },
     "execution_count": 14,
     "metadata": {},
     "output_type": "execute_result"
    }
   ],
   "source": [
    "labels_partial.shape"
   ]
  },
  {
   "cell_type": "code",
   "execution_count": null,
   "id": "576c1409-a149-4585-a289-1347cd7be4d9",
   "metadata": {},
   "outputs": [],
   "source": []
  }
 ],
 "metadata": {
  "kernelspec": {
   "display_name": "Python 3 (ipykernel)",
   "language": "python",
   "name": "python3"
  },
  "language_info": {
   "codemirror_mode": {
    "name": "ipython",
    "version": 3
   },
   "file_extension": ".py",
   "mimetype": "text/x-python",
   "name": "python",
   "nbconvert_exporter": "python",
   "pygments_lexer": "ipython3",
   "version": "3.11.6"
  }
 },
 "nbformat": 4,
 "nbformat_minor": 5
}
