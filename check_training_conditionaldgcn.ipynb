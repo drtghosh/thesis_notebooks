{
 "cells": [
  {
   "cell_type": "code",
   "execution_count": 1,
   "id": "9f0ac3df-7ea4-49eb-870f-a273e451671e",
   "metadata": {},
   "outputs": [],
   "source": [
    "from create_data_dgcn_cc import Circ as cc\n",
    "from conditionaldgcnsuq import ConditionalDGCN as ccn\n",
    "import matplotlib\n",
    "import matplotlib.pyplot as plt"
   ]
  },
  {
   "cell_type": "code",
   "execution_count": 2,
   "id": "af8a33da-7250-4812-b735-282b95c9901e",
   "metadata": {},
   "outputs": [],
   "source": [
    "data_instance = cc(0.4, 0.4, 0.2, 26)\n",
    "fpc, pc, lp, tc, lt = data_instance.create_dataset(20, 1, [100], [0.2], 10)"
   ]
  },
  {
   "cell_type": "code",
   "execution_count": 3,
   "id": "f4efc306-cfad-424d-befe-7d3a298102f9",
   "metadata": {},
   "outputs": [],
   "source": [
    "import torch\n",
    "torch.manual_seed(26)\n",
    "fpc, pc, lp, tc, lt = torch.tensor(fpc), torch.tensor(pc), torch.tensor(lp), torch.tensor(tc), torch.tensor(lt)"
   ]
  },
  {
   "cell_type": "code",
   "execution_count": 4,
   "id": "52f1b09a-0fbd-4748-b9d7-53e8c0194595",
   "metadata": {},
   "outputs": [],
   "source": [
    "model = ccn(pc, fpc, tc, lp, lt, False, 2)"
   ]
  },
  {
   "cell_type": "code",
   "execution_count": 5,
   "id": "14056430-b0bc-4d3b-9e86-ba8123e83b63",
   "metadata": {},
   "outputs": [],
   "source": [
    "directed_partial, directed_remaining, labels_partial = model.create_conditional_data()"
   ]
  },
  {
   "cell_type": "code",
   "execution_count": 6,
   "id": "9a9f0d68-b55a-43be-bc4a-4cabc5c91bd1",
   "metadata": {},
   "outputs": [
    {
     "name": "stderr",
     "output_type": "stream",
     "text": [
      "/servers/ash/hdd-home3/dghosh/Documents/Thesis/1notebooks/conditionaldgcnsuq.py:9: UserWarning: The use of `x.T` on tensors of dimension other than 2 to reverse their shape is deprecated and it will throw an error in a future release. Consider `x.mT` to transpose batches of matrices or `x.permute(*torch.arange(x.ndim - 1, -1, -1))` to reverse the dimensions of a tensor. (Triggered internally at /opt/conda/conda-bld/pytorch_1724788960438/work/aten/src/ATen/native/TensorShape.cpp:3697.)\n",
      "  dist_term = -0.5 * (label - mean).T @ torch.linalg.inv(variance) @ (label - mean)\n"
     ]
    },
    {
     "name": "stdout",
     "output_type": "stream",
     "text": [
      "Epoch:0, Loss: 199.01747131347656\n",
      "Epoch:1, Loss: 199.0111541748047\n",
      "Epoch:2, Loss: 199.00473022460938\n",
      "Epoch:3, Loss: 198.98651123046875\n",
      "Epoch:4, Loss: 198.97702026367188\n",
      "Epoch:5, Loss: 198.96055603027344\n",
      "Epoch:6, Loss: 198.9524383544922\n",
      "Epoch:7, Loss: 198.94735717773438\n",
      "Epoch:8, Loss: 198.9434051513672\n",
      "Epoch:9, Loss: 198.94229125976562\n",
      "Epoch:10, Loss: 198.9396514892578\n",
      "Epoch:11, Loss: 198.93807983398438\n",
      "Epoch:12, Loss: 198.93692016601562\n",
      "Epoch:13, Loss: 198.93606567382812\n",
      "Epoch:14, Loss: 198.9354705810547\n",
      "Epoch:15, Loss: 198.9386444091797\n",
      "Epoch:16, Loss: 199.3460693359375\n",
      "Epoch:17, Loss: 198.93582153320312\n",
      "Epoch:18, Loss: 198.94149780273438\n",
      "Epoch:19, Loss: 198.93557739257812\n"
     ]
    }
   ],
   "source": [
    "model.train_kernel(num_epochs=20, learning_rate=0.01, print_every=1)"
   ]
  },
  {
   "cell_type": "code",
   "execution_count": null,
   "id": "89bbd458-ba4e-49d2-9cd4-6c8ebc1c0e8b",
   "metadata": {},
   "outputs": [],
   "source": []
  }
 ],
 "metadata": {
  "kernelspec": {
   "display_name": "Python 3 (ipykernel)",
   "language": "python",
   "name": "python3"
  },
  "language_info": {
   "codemirror_mode": {
    "name": "ipython",
    "version": 3
   },
   "file_extension": ".py",
   "mimetype": "text/x-python",
   "name": "python",
   "nbconvert_exporter": "python",
   "pygments_lexer": "ipython3",
   "version": "3.11.6"
  }
 },
 "nbformat": 4,
 "nbformat_minor": 5
}
