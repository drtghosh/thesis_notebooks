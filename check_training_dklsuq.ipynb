{
 "cells": [
  {
   "cell_type": "code",
   "execution_count": 1,
   "id": "9f0ac3df-7ea4-49eb-870f-a273e451671e",
   "metadata": {},
   "outputs": [],
   "source": [
    "from create_data import DumbCirc as dc\n",
    "from dklsuq import DeepKernelSUQ as dklu\n",
    "import matplotlib\n",
    "import matplotlib.pyplot as plt"
   ]
  },
  {
   "cell_type": "code",
   "execution_count": 2,
   "id": "af8a33da-7250-4812-b735-282b95c9901e",
   "metadata": {},
   "outputs": [],
   "source": [
    "data_instance = dc(0.5, 0.5, 0.25)\n",
    "fc, pc, tc = data_instance.create_dataset(4, 2, [50], [0.2], True)"
   ]
  },
  {
   "cell_type": "code",
   "execution_count": 3,
   "id": "f4efc306-cfad-424d-befe-7d3a298102f9",
   "metadata": {},
   "outputs": [
    {
     "name": "stderr",
     "output_type": "stream",
     "text": [
      "/tmp/ipykernel_485496/2979240048.py:2: UserWarning: Creating a tensor from a list of numpy.ndarrays is extremely slow. Please consider converting the list to a single numpy.ndarray with numpy.array() before converting to a tensor. (Triggered internally at /opt/conda/conda-bld/pytorch_1711403246168/work/torch/csrc/utils/tensor_new.cpp:275.)\n",
      "  fc, pc, tc = torch.tensor(fc), torch.tensor(pc), torch.tensor(tc)\n"
     ]
    }
   ],
   "source": [
    "import torch\n",
    "fc, pc, tc = torch.tensor(fc), torch.tensor(pc), torch.tensor(tc)"
   ]
  },
  {
   "cell_type": "code",
   "execution_count": 4,
   "id": "6ddc3109-a660-4743-a97a-59b64359cdbb",
   "metadata": {},
   "outputs": [
    {
     "data": {
      "text/plain": [
       "torch.Size([8, 140, 2])"
      ]
     },
     "execution_count": 4,
     "metadata": {},
     "output_type": "execute_result"
    }
   ],
   "source": [
    "fc.size()"
   ]
  },
  {
   "cell_type": "code",
   "execution_count": 5,
   "id": "5a7a5eea-4821-4bb1-8e8f-895005d5f9b5",
   "metadata": {},
   "outputs": [
    {
     "data": {
      "text/plain": [
       "torch.Size([8, 35, 2])"
      ]
     },
     "execution_count": 5,
     "metadata": {},
     "output_type": "execute_result"
    }
   ],
   "source": [
    "pc.size()"
   ]
  },
  {
   "cell_type": "code",
   "execution_count": 6,
   "id": "2b9ec20f-6db0-460f-840b-8000b26727c7",
   "metadata": {},
   "outputs": [],
   "source": [
    "model = dklu(point_cloud=fc, partial_cloud=pc, test_partial=tc)"
   ]
  },
  {
   "cell_type": "code",
   "execution_count": 7,
   "id": "6193567b-fbc7-48d1-b861-ba8591f47045",
   "metadata": {},
   "outputs": [],
   "source": [
    "use_cuda = torch.cuda.is_available()\n",
    "device = torch.device(\"cuda\" if use_cuda else \"cpu\")\n",
    "model.set_device(device)"
   ]
  },
  {
   "cell_type": "code",
   "execution_count": 8,
   "id": "1fb298cb-5616-420c-8a0e-c7ea0b01dc81",
   "metadata": {},
   "outputs": [],
   "source": [
    "model.set_test_data(tc)"
   ]
  },
  {
   "cell_type": "code",
   "execution_count": 9,
   "id": "bdfaf80e-4092-4f42-a202-a6535fde2e86",
   "metadata": {},
   "outputs": [
    {
     "name": "stdout",
     "output_type": "stream",
     "text": [
      "tensor([[-0.1333, -0.3598, -1.2362,  ...,  0.1947, -1.0790, -0.2944],\n",
      "        [-0.1395, -0.3647, -1.2353,  ...,  0.1920, -1.0807, -0.2930],\n",
      "        [-0.1272, -0.3558, -1.2333,  ...,  0.1943, -1.0725, -0.2982],\n",
      "        ...,\n",
      "        [-0.1319, -0.3598, -1.2315,  ...,  0.1924, -1.0724, -0.2977],\n",
      "        [-0.1293, -0.3566, -1.2372,  ...,  0.1957, -1.0773, -0.2957],\n",
      "        [-0.1337, -0.3599, -1.2375,  ...,  0.1953, -1.0802, -0.2938]],\n",
      "       grad_fn=<AddmmBackward0>)\n",
      "tensor([[-0.2245, -0.1558, -0.6880,  ...,  0.0390, -0.2994, -0.4382],\n",
      "        [-0.2267, -0.1623, -0.6761,  ...,  0.0410, -0.2939, -0.4322],\n",
      "        [-0.2256, -0.1565, -0.6858,  ...,  0.0371, -0.3037, -0.4350],\n",
      "        ...,\n",
      "        [-0.2267, -0.1604, -0.6780,  ...,  0.0407, -0.2952, -0.4325],\n",
      "        [-0.2269, -0.1602, -0.6783,  ...,  0.0400, -0.2962, -0.4321],\n",
      "        [-0.2246, -0.1559, -0.6875,  ...,  0.0393, -0.2989, -0.4379]],\n",
      "       grad_fn=<AddmmBackward0>)\n",
      "tensor([[-0.2479,  0.0302, -0.3402,  ..., -0.0875, -0.1495, -0.1620],\n",
      "        [-0.2481,  0.0308, -0.3395,  ..., -0.0881, -0.1525, -0.1625],\n",
      "        [-0.2470,  0.0283, -0.3366,  ..., -0.0887, -0.1505, -0.1615],\n",
      "        ...,\n",
      "        [-0.2476,  0.0300, -0.3371,  ..., -0.0892, -0.1559, -0.1630],\n",
      "        [-0.2469,  0.0284, -0.3352,  ..., -0.0895, -0.1543, -0.1624],\n",
      "        [-0.2482,  0.0302, -0.3424,  ..., -0.0856, -0.1452, -0.1620]],\n",
      "       grad_fn=<AddmmBackward0>)\n",
      "tensor([[-0.1645, -0.0723, -0.5203,  ..., -0.0685, -0.1213, -0.3479],\n",
      "        [-0.1477, -0.0712, -0.5151,  ..., -0.0762, -0.1173, -0.3395],\n",
      "        [-0.1579, -0.0725, -0.5160,  ..., -0.0725, -0.1185, -0.3447],\n",
      "        ...,\n",
      "        [-0.1524, -0.0720, -0.5133,  ..., -0.0743, -0.1163, -0.3393],\n",
      "        [-0.1608, -0.0728, -0.5187,  ..., -0.0708, -0.1202, -0.3472],\n",
      "        [-0.1599, -0.0729, -0.5178,  ..., -0.0717, -0.1195, -0.3467]],\n",
      "       grad_fn=<AddmmBackward0>)\n",
      "tensor([[-0.2807, -0.4892, -1.5130,  ...,  0.0772, -0.4862, -0.8199],\n",
      "        [-0.2866, -0.4886, -1.5170,  ...,  0.0791, -0.4876, -0.8247],\n",
      "        [-0.2792, -0.4897, -1.5065,  ...,  0.0739, -0.4891, -0.8167],\n",
      "        ...,\n",
      "        [-0.2861, -0.4877, -1.5254,  ...,  0.0866, -0.4810, -0.8274],\n",
      "        [-0.2751, -0.4899, -1.5141,  ...,  0.0778, -0.4827, -0.8171],\n",
      "        [-0.2890, -0.4879, -1.5227,  ...,  0.0841, -0.4847, -0.8281]],\n",
      "       grad_fn=<AddmmBackward0>)\n",
      "tensor([[-0.2694,  0.0052, -0.6955,  ..., -0.0091, -0.2034, -0.5187],\n",
      "        [-0.2726,  0.0091, -0.6981,  ..., -0.0128, -0.1986, -0.5116],\n",
      "        [-0.2712,  0.0085, -0.6972,  ..., -0.0136, -0.1975, -0.5094],\n",
      "        ...,\n",
      "        [-0.2742,  0.0114, -0.6987,  ..., -0.0166, -0.1946, -0.5037],\n",
      "        [-0.2697,  0.0056, -0.6955,  ..., -0.0095, -0.2040, -0.5192],\n",
      "        [-0.2731,  0.0090, -0.6980,  ..., -0.0123, -0.2001, -0.5133]],\n",
      "       grad_fn=<AddmmBackward0>)\n",
      "tensor([[-0.0900, -0.1984, -0.6388,  ..., -0.0677, -0.3009, -0.4037],\n",
      "        [-0.0931, -0.2006, -0.6319,  ..., -0.0645, -0.3014, -0.4010],\n",
      "        [-0.0941, -0.2020, -0.6303,  ..., -0.0631, -0.3008, -0.4012],\n",
      "        ...,\n",
      "        [-0.0914, -0.1987, -0.6350,  ..., -0.0660, -0.3020, -0.4007],\n",
      "        [-0.0916, -0.1988, -0.6333,  ..., -0.0645, -0.3032, -0.3992],\n",
      "        [-0.0923, -0.2005, -0.6352,  ..., -0.0683, -0.2986, -0.4050]],\n",
      "       grad_fn=<AddmmBackward0>)\n",
      "tensor([[-0.1276, -0.1409, -0.4130,  ...,  0.0955, -0.0659, -0.6183],\n",
      "        [-0.1251, -0.1389, -0.4161,  ...,  0.0989, -0.0792, -0.5961],\n",
      "        [-0.1255, -0.1396, -0.4152,  ...,  0.0970, -0.0809, -0.5933],\n",
      "        ...,\n",
      "        [-0.1268, -0.1391, -0.4143,  ...,  0.1000, -0.0689, -0.6179],\n",
      "        [-0.1286, -0.1410, -0.4136,  ...,  0.0983, -0.0701, -0.6114],\n",
      "        [-0.1251, -0.1388, -0.4164,  ...,  0.0995, -0.0778, -0.5983]],\n",
      "       grad_fn=<AddmmBackward0>)\n",
      "Epoch: 0, Loss: 61378.332031\n",
      "tensor([[ 0.1696, -0.1409, -1.0327,  ..., -0.0098, -0.1914, -0.3021],\n",
      "        [ 0.1662, -0.1338, -1.0430,  ..., -0.0139, -0.1915, -0.3012],\n",
      "        [ 0.1724, -0.1486, -1.0309,  ..., -0.0138, -0.1926, -0.2992],\n",
      "        ...,\n",
      "        [ 0.1690, -0.1439, -1.0402,  ..., -0.0173, -0.1929, -0.2976],\n",
      "        [ 0.1718, -0.1449, -1.0265,  ..., -0.0080, -0.1906, -0.3029],\n",
      "        [ 0.1693, -0.1402, -1.0310,  ..., -0.0083, -0.1910, -0.3031]],\n",
      "       grad_fn=<AddmmBackward0>)\n",
      "tensor([[-0.0838, -0.1237, -0.9536,  ..., -0.0542, -0.5172, -0.5803],\n",
      "        [-0.0825, -0.1214, -0.9496,  ..., -0.0599, -0.5103, -0.5695],\n",
      "        [-0.0826, -0.1215, -0.9573,  ..., -0.0476, -0.5220, -0.5730],\n",
      "        ...,\n",
      "        [-0.0825, -0.1219, -0.9506,  ..., -0.0585, -0.5123, -0.5714],\n",
      "        [-0.0821, -0.1217, -0.9515,  ..., -0.0572, -0.5138, -0.5707],\n",
      "        [-0.0837, -0.1237, -0.9532,  ..., -0.0550, -0.5167, -0.5802]],\n",
      "       grad_fn=<AddmmBackward0>)\n",
      "tensor([[-0.1931, -0.0593, -0.2172,  ...,  0.0177, -0.3222, -0.3849],\n",
      "        [-0.1916, -0.0585, -0.2192,  ...,  0.0226, -0.3193, -0.3870],\n",
      "        [-0.1909, -0.0577, -0.2199,  ...,  0.0209, -0.3200, -0.3859],\n",
      "        ...,\n",
      "        [-0.1885, -0.0554, -0.2235,  ...,  0.0298, -0.3157, -0.3885],\n",
      "        [-0.1894, -0.0550, -0.2232,  ...,  0.0274, -0.3168, -0.3864],\n",
      "        [-0.1941, -0.0615, -0.2165,  ...,  0.0105, -0.3245, -0.3830]],\n",
      "       grad_fn=<AddmmBackward0>)\n"
     ]
    },
    {
     "name": "stderr",
     "output_type": "stream",
     "text": [
      "/servers/ash/hdd-home3/dghosh/Documents/Thesis/1notebooks/dklsuq.py:117: UserWarning: The use of `x.T` on tensors of dimension other than 2 to reverse their shape is deprecated and it will throw an error in a future release. Consider `x.mT` to transpose batches of matrices or `x.permute(*torch.arange(x.ndim - 1, -1, -1))` to reverse the dimensions of a tensor. (Triggered internally at /opt/conda/conda-bld/pytorch_1711403246168/work/aten/src/ATen/native/TensorShape.cpp:3637.)\n",
      "  + posterior_mean.T @ torch.linalg.inv(posterior_var) @ posterior_mean)\n"
     ]
    },
    {
     "ename": "_LinAlgError",
     "evalue": "linalg.inv: The diagonal element 140 is zero, the inversion could not be completed because the input matrix is singular.",
     "output_type": "error",
     "traceback": [
      "\u001b[0;31m---------------------------------------------------------------------------\u001b[0m",
      "\u001b[0;31m_LinAlgError\u001b[0m                              Traceback (most recent call last)",
      "Cell \u001b[0;32mIn[9], line 1\u001b[0m\n\u001b[0;32m----> 1\u001b[0m model\u001b[38;5;241m.\u001b[39mtrain()\n",
      "File \u001b[0;32m/servers/ash/hdd-home3/dghosh/Documents/Thesis/1notebooks/dklsuq.py:131\u001b[0m, in \u001b[0;36mDeepKernelSUQ.train\u001b[0;34m(self, num_epochs, print_every, learning_rate, weight_decay)\u001b[0m\n\u001b[1;32m    128\u001b[0m \u001b[38;5;28;01mfor\u001b[39;00m i \u001b[38;5;129;01min\u001b[39;00m \u001b[38;5;28mrange\u001b[39m(num_epochs):\n\u001b[1;32m    129\u001b[0m     \u001b[38;5;66;03m# print(f'Epoch {i}:')\u001b[39;00m\n\u001b[1;32m    130\u001b[0m     optimizer\u001b[38;5;241m.\u001b[39mzero_grad()\n\u001b[0;32m--> 131\u001b[0m     output \u001b[38;5;241m=\u001b[39m \u001b[38;5;28mself\u001b[39m\u001b[38;5;241m.\u001b[39mget_posterior(train_x)\n\u001b[1;32m    132\u001b[0m     \u001b[38;5;66;03m# print(output)\u001b[39;00m\n\u001b[1;32m    133\u001b[0m     loss \u001b[38;5;241m=\u001b[39m torch\u001b[38;5;241m.\u001b[39mmean(output)\n",
      "File \u001b[0;32m/servers/ash/hdd-home3/dghosh/Documents/Thesis/1notebooks/dklsuq.py:117\u001b[0m, in \u001b[0;36mDeepKernelSUQ.get_posterior\u001b[0;34m(self, x)\u001b[0m\n\u001b[1;32m    114\u001b[0m     posterior_mean \u001b[38;5;241m=\u001b[39m kernel_pf\u001b[38;5;241m.\u001b[39mT \u001b[38;5;241m@\u001b[39m torch\u001b[38;5;241m.\u001b[39mlinalg\u001b[38;5;241m.\u001b[39minv(kernel_pp) \u001b[38;5;241m@\u001b[39m \u001b[38;5;28mself\u001b[39m\u001b[38;5;241m.\u001b[39mpartial_value[i]\u001b[38;5;241m.\u001b[39mto(\u001b[38;5;28mself\u001b[39m\u001b[38;5;241m.\u001b[39mdevice)\n\u001b[1;32m    115\u001b[0m     posterior_var \u001b[38;5;241m=\u001b[39m kernel_ff \u001b[38;5;241m-\u001b[39m kernel_pf\u001b[38;5;241m.\u001b[39mT \u001b[38;5;241m@\u001b[39m torch\u001b[38;5;241m.\u001b[39mlinalg\u001b[38;5;241m.\u001b[39minv(kernel_pp) \u001b[38;5;241m@\u001b[39m kernel_pf\n\u001b[1;32m    116\u001b[0m     posterior_nlls[i] \u001b[38;5;241m=\u001b[39m \u001b[38;5;241m0.5\u001b[39m \u001b[38;5;241m*\u001b[39m (torch\u001b[38;5;241m.\u001b[39mlog(torch\u001b[38;5;241m.\u001b[39mlinalg\u001b[38;5;241m.\u001b[39mdet(posterior_var) \u001b[38;5;241m+\u001b[39m \u001b[38;5;241m1e-6\u001b[39m) \u001b[38;5;241m-\u001b[39m torch\u001b[38;5;241m.\u001b[39mlog(torch\u001b[38;5;241m.\u001b[39mtensor(\u001b[38;5;241m1e-6\u001b[39m))\n\u001b[0;32m--> 117\u001b[0m                                \u001b[38;5;241m+\u001b[39m posterior_mean\u001b[38;5;241m.\u001b[39mT \u001b[38;5;241m@\u001b[39m torch\u001b[38;5;241m.\u001b[39mlinalg\u001b[38;5;241m.\u001b[39minv(posterior_var) \u001b[38;5;241m@\u001b[39m posterior_mean)\n\u001b[1;32m    119\u001b[0m \u001b[38;5;28;01mreturn\u001b[39;00m posterior_nlls\u001b[38;5;241m.\u001b[39mto(\u001b[38;5;28mself\u001b[39m\u001b[38;5;241m.\u001b[39mdevice)\n",
      "\u001b[0;31m_LinAlgError\u001b[0m: linalg.inv: The diagonal element 140 is zero, the inversion could not be completed because the input matrix is singular."
     ]
    }
   ],
   "source": [
    "model.train()"
   ]
  },
  {
   "cell_type": "code",
   "execution_count": null,
   "id": "07c7270f",
   "metadata": {},
   "outputs": [],
   "source": []
  },
  {
   "cell_type": "code",
   "execution_count": null,
   "id": "5cc60bb4",
   "metadata": {},
   "outputs": [],
   "source": []
  }
 ],
 "metadata": {
  "kernelspec": {
   "display_name": "Python 3 (ipykernel)",
   "language": "python",
   "name": "python3"
  },
  "language_info": {
   "codemirror_mode": {
    "name": "ipython",
    "version": 3
   },
   "file_extension": ".py",
   "mimetype": "text/x-python",
   "name": "python",
   "nbconvert_exporter": "python",
   "pygments_lexer": "ipython3",
   "version": "3.12.4"
  }
 },
 "nbformat": 4,
 "nbformat_minor": 5
}
